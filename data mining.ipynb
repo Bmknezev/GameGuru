{
 "cells": [
  {
   "cell_type": "code",
   "execution_count": null,
   "id": "initial_id",
   "metadata": {},
   "outputs": [],
   "source": []
  },
  {
   "cell_type": "code",
   "execution_count": null,
   "id": "6cf3a42a10a8b09b",
   "metadata": {
    "collapsed": false
   },
   "outputs": [],
   "source": [
    "import pandas as pd\n",
    "import seaborn as sns\n",
    "import matplotlib.pyplot as plt\n",
    "import plotly.express as px\n",
    "import numpy as np\n",
    "from mlxtend.frequent_patterns import apriori\n",
    "from mlxtend.frequent_patterns import association_rules\n",
    "\n",
    "from pymongo.mongo_client import MongoClient\n",
    "from pymongo.server_api import ServerApi\n",
    "\n",
    "uri = \"\"\n",
    "\n",
    "# Create a new client and connect to the server\n",
    "client = MongoClient(uri, server_api=ServerApi('1'))\n",
    "\n",
    "# Send a ping to confirm a successful connection\n",
    "try:\n",
    "    client.admin.command('ping')\n",
    "    print(\"Pinged your deployment. You successfully connected to MongoDB!\")\n",
    "except Exception as e:\n",
    "    print(e)\n",
    "    \n",
    "\n",
    "# Written by Braydon\n",
    "\n",
    "\n",
    "\n",
    "\n"
   ]
  },
  {
   "cell_type": "code",
   "execution_count": null,
   "id": "5eb6f4915a835ccb",
   "metadata": {
    "collapsed": false
   },
   "outputs": [],
   "source": [
    "db = client['Steam']\n",
    "games = db['Games Names']\n",
    "playtime = db['Playtime']\n",
    "genrestogames = db['Game-Genre Relationships']\n",
    "genres = db['Genres']\n",
    "tagtogames = db['Game-Tag Relationships']\n",
    "cattogames = db['Game-Category Relationships']\n",
    "tags = db['Tags']\n",
    "categories = db['Categories']\n",
    "\n",
    "#written by Braydon"
   ]
  },
  {
   "cell_type": "code",
   "execution_count": null,
   "id": "4b1084c5a30d3421",
   "metadata": {
    "collapsed": false
   },
   "outputs": [],
   "source": []
  },
  {
   "cell_type": "code",
   "execution_count": null,
   "id": "2240591d5e0ff411",
   "metadata": {
    "collapsed": false
   },
   "outputs": [],
   "source": [
    "# data mining stuff\n",
    "\n",
    "# find games that are often played together\n",
    "df = pd.DataFrame(list(playtime.find()))\n",
    "df3 = pd.DataFrame(list(genres.find()))\n",
    "df4 = pd.DataFrame(list(genrestogames.find()))\n",
    "\n",
    "df3 = df3.rename(columns = {'_id': 'genreID'})\n",
    "df4 = pd.merge(df4, df3, on='genreID')\n",
    "\n",
    "\n",
    "df4 = df4.drop(columns = ['_id'])\n",
    "df4 = df4.dropna()\n",
    "df4 = df4.groupby(['gameID', 'genreName']).size().unstack().fillna(0)\n",
    "df4 = df4.applymap(lambda x: 1 if x > 0 else 0)\n",
    "\n",
    "#df4 = df4.drop(columns = ['genreID'])\n",
    "\n",
    "merged_df = pd.merge(df, df4, on='gameID')\n",
    "\n",
    "merged_df = merged_df.drop(columns = ['playtime'])\n",
    "merged_df = merged_df.dropna()\n",
    "merged_df = merged_df.drop(columns = ['_id'])\n",
    "merged_df = merged_df.drop(columns = ['gameName'])\n",
    "merged_df = merged_df.drop(columns = ['gameID'])\n",
    "\n",
    "merged_df = merged_df.groupby(['playerID']).sum()\n",
    "merged_df = merged_df.applymap(lambda x: 1 if x > 0 else 0)\n",
    "\n",
    "ddd = association_rules(apriori(merged_df, min_support=0.01, use_colnames=True), metric=\"confidence\", min_threshold=0.8)\n",
    "ddd.head(5)\n",
    "\n",
    "\n",
    "#written by Braydon"
   ]
  },
  {
   "cell_type": "code",
   "execution_count": null,
   "id": "4f42f234d4744d83",
   "metadata": {
    "collapsed": false
   },
   "outputs": [],
   "source": [
    "ddd.drop(columns = ['antecedent support', 'consequent support', 'zhangs_metric'], inplace = True)"
   ]
  },
  {
   "cell_type": "code",
   "execution_count": null,
   "id": "f85db53e815e8577",
   "metadata": {
    "collapsed": false
   },
   "outputs": [],
   "source": [
    "ddd.head(5)"
   ]
  },
  {
   "cell_type": "code",
   "execution_count": null,
   "id": "e40c366fc78963c5",
   "metadata": {
    "collapsed": false
   },
   "outputs": [],
   "source": [
    "fig = px.scatter(\n",
    "    ddd,\n",
    "    x=\"leverage\",\n",
    "    y=\"confidence\",\n",
    "    size=\"support\",\n",
    "    color=\"conviction\",\n",
    "    title=\"Genres Played Together\",\n",
    "    template=\"plotly_dark\",\n",
    "\n",
    ")\n",
    "fig.show()\n",
    "\n",
    "#written by Braydon"
   ]
  },
  {
   "cell_type": "code",
   "execution_count": null,
   "id": "e79f0b19d857b943",
   "metadata": {
    "collapsed": false
   },
   "outputs": [],
   "source": []
  },
  {
   "cell_type": "code",
   "execution_count": null,
   "id": "6d4a5546683081e4",
   "metadata": {
    "collapsed": false
   },
   "outputs": [],
   "source": [
    "# find the genres that most commonly go together\n",
    "\n",
    "df5 = pd.DataFrame(list(games.find()))\n",
    "df5.rename(columns = {'_id': 'gameID'}, inplace = True)\n",
    "\n",
    "merged_df = pd.merge(df5, df4, on='gameID')\n",
    "merged_df = merged_df.drop(columns = ['gameID'])\n",
    "merged_df = merged_df.drop(columns = ['gameName'])\n",
    "dd = association_rules(apriori(merged_df, min_support=0.001, use_colnames=True), metric=\"confidence\", min_threshold=0.5)\n",
    "dd.drop(columns = ['antecedent support', 'consequent support', 'zhangs_metric'], inplace = True)\n",
    "dd.head(5)\n",
    "\n",
    "#written by Braydon"
   ]
  },
  {
   "cell_type": "code",
   "execution_count": null,
   "id": "353e5bb14ea2acd",
   "metadata": {
    "collapsed": false
   },
   "outputs": [],
   "source": [
    "fig = px.scatter(\n",
    "    dd,\n",
    "    x=\"leverage\",\n",
    "    y=\"confidence\",\n",
    "    size=\"support\",\n",
    "    color=\"conviction\",\n",
    "    title=\"Genres Grouped Together\",\n",
    "\n",
    ")\n",
    "fig.show()\n",
    "\n",
    "#written by Braydon"
   ]
  },
  {
   "cell_type": "code",
   "execution_count": null,
   "id": "abe3a5297478aae1",
   "metadata": {
    "collapsed": false
   },
   "outputs": [],
   "source": [
    "# data mining stuff\n",
    "\n",
    "# find games that are often played together\n",
    "df = pd.DataFrame(list(playtime.find()))\n",
    "df3 = pd.DataFrame(list(tags.find()))\n",
    "df4 = pd.DataFrame(list(tagtogames.find()))\n",
    "\n",
    "df3 = df3.rename(columns = {'_id': 'tagID'})\n",
    "df4 = pd.merge(df4, df3, on='tagID')\n",
    "\n",
    "\n",
    "df4 = df4.drop(columns = ['_id'])\n",
    "df4 = df4.dropna()\n",
    "df4 = df4.groupby(['gameID', 'tagName']).size().unstack().fillna(0)\n",
    "df4 = df4.applymap(lambda x: 1 if x > 0 else 0)\n",
    "\n",
    "#df4 = df4.drop(columns = ['genreID'])\n",
    "\n",
    "merged_df = pd.merge(df, df4, on='gameID')\n",
    "\n",
    "merged_df = merged_df.drop(columns = ['playtime'])\n",
    "merged_df = merged_df.dropna()\n",
    "merged_df = merged_df.drop(columns = ['_id'])\n",
    "merged_df = merged_df.drop(columns = ['gameName'])\n",
    "merged_df = merged_df.drop(columns = ['gameID'])\n",
    "\n",
    "merged_df = merged_df.groupby(['playerID']).sum()\n",
    "merged_df = merged_df.applymap(lambda x: 1 if x > 0 else 0)\n",
    "\n",
    "ddcd = association_rules(apriori(merged_df, min_support=0.1, use_colnames=True), metric=\"confidence\", min_threshold=0.8)\n",
    "ddcd.drop(columns = ['antecedent support', 'consequent support', 'zhangs_metric'], inplace = True)\n",
    "ddcd.head(5)\n",
    "\n",
    "#written by Braydon\n"
   ]
  },
  {
   "cell_type": "code",
   "execution_count": null,
   "id": "9577e57ddd12424c",
   "metadata": {
    "collapsed": false
   },
   "outputs": [],
   "source": [
    "fig = px.scatter(\n",
    "    ddcd,\n",
    "    x=\"leverage\",\n",
    "    y=\"confidence\",\n",
    "    size=\"support\",\n",
    "    color=\"conviction\",\n",
    "    title=\"Tags Played Together\",\n",
    "\n",
    ")\n",
    "fig.show()\n",
    "\n",
    "#written by Braydon"
   ]
  },
  {
   "cell_type": "code",
   "execution_count": null,
   "id": "b14be8a229faf4b2",
   "metadata": {
    "collapsed": false
   },
   "outputs": [],
   "source": [
    "# find the tags that most commonly go together\n",
    "\n",
    "df5 = pd.DataFrame(list(games.find()))\n",
    "df5.rename(columns = {'_id': 'gameID'}, inplace = True)\n",
    "\n",
    "merged_df = pd.merge(df5, df4, on='gameID')\n",
    "merged_df = merged_df.drop(columns = ['gameID'])\n",
    "merged_df = merged_df.drop(columns = ['gameName'])\n",
    "dd = association_rules(apriori(merged_df, min_support=0.001, use_colnames=True), metric=\"confidence\", min_threshold=0.8)\n",
    "dd.drop(columns = ['antecedent support', 'consequent support', 'zhangs_metric'], inplace = True)\n",
    "dd.head(5)\n",
    "\n",
    "#written by Braydon"
   ]
  },
  {
   "cell_type": "code",
   "execution_count": null,
   "id": "4aac177fd820c06",
   "metadata": {
    "collapsed": false
   },
   "outputs": [],
   "source": [
    "fig = px.scatter(\n",
    "    dd,\n",
    "    x=\"leverage\",\n",
    "    y=\"confidence\",\n",
    "    size=\"support\",\n",
    "    color=\"conviction\",\n",
    "    title=\"Tags Grouped Together\",\n",
    "\n",
    ")\n",
    "fig.show()\n",
    "\n",
    "#written by Braydon"
   ]
  },
  {
   "cell_type": "code",
   "execution_count": null,
   "id": "55fedb36e875bb0e",
   "metadata": {
    "collapsed": false
   },
   "outputs": [],
   "source": []
  },
  {
   "cell_type": "code",
   "execution_count": null,
   "id": "e23c55d282ae2062",
   "metadata": {
    "collapsed": false
   },
   "outputs": [],
   "source": [
    "# categories that players often play together\n",
    "df = pd.DataFrame(list(playtime.find()))\n",
    "df3 = pd.DataFrame(list(categories.find()))\n",
    "df4 = pd.DataFrame(list(cattogames.find()))\n",
    "\n",
    "df3 = df3.rename(columns = {'_id': 'categoryID'})\n",
    "df4 = pd.merge(df4, df3, on='categoryID')\n",
    "\n",
    "\n",
    "df4 = df4.drop(columns = ['_id'])\n",
    "df4 = df4.dropna()\n",
    "df4 = df4.groupby(['gameID', 'categoryName']).size().unstack().fillna(0)\n",
    "df4 = df4.applymap(lambda x: 1 if x > 0 else 0)\n",
    "\n",
    "#df4 = df4.drop(columns = ['genreID'])\n",
    "\n",
    "merged_df = pd.merge(df, df4, on='gameID')\n",
    "\n",
    "merged_df = merged_df.drop(columns = ['playtime'])\n",
    "merged_df = merged_df.dropna()\n",
    "merged_df = merged_df.drop(columns = ['_id'])\n",
    "merged_df = merged_df.drop(columns = ['gameName'])\n",
    "merged_df = merged_df.drop(columns = ['gameID'])\n",
    "\n",
    "merged_df = merged_df.groupby(['playerID']).sum()\n",
    "merged_df = merged_df.applymap(lambda x: True if x > 0 else False)\n",
    "\n",
    "\n",
    "#dcd = association_rules(apriori(merged_df, min_support=0.1, use_colnames=True), metric=\"confidence\", min_threshold=0.8)\n",
    "#dcd.drop(columns = ['antecedent support', 'consequent support', 'zhangs_metric'], inplace = True)\n",
    "#dcd.head(5)\n",
    "\n",
    "# written by Braydon"
   ]
  },
  {
   "cell_type": "code",
   "execution_count": null,
   "id": "ac2abe452693d12f",
   "metadata": {
    "collapsed": false,
    "editable": true,
    "slideshow": {
     "slide_type": ""
    },
    "tags": []
   },
   "outputs": [],
   "source": [
    "fig = px.scatter(\n",
    "    ddd,\n",
    "    x=\"leverage\",\n",
    "    y=\"confidence\",\n",
    "    size=\"support\",\n",
    "    color=\"conviction\",\n",
    "    title=\"Genres Played Together\",\n",
    "\n",
    ")\n",
    "fig.show()\n",
    "\n",
    "#written by Braydon"
   ]
  },
  {
   "cell_type": "code",
   "execution_count": null,
   "id": "bc7ca2338c97b901",
   "metadata": {
    "collapsed": false
   },
   "outputs": [],
   "source": [
    "# find the categories that most commonly go together\n",
    "\n",
    "df5 = pd.DataFrame(list(games.find()))\n",
    "df5.rename(columns = {'_id': 'gameID'}, inplace = True)\n",
    "\n",
    "merged_df = pd.merge(df5, df4, on='gameID')\n",
    "merged_df = merged_df.drop(columns = ['gameID'])\n",
    "merged_df = merged_df.drop(columns = ['gameName'])\n",
    "dd = association_rules(apriori(merged_df, min_support=0.01, use_colnames=True), metric=\"confidence\", min_threshold=0.5)\n",
    "dd.drop(columns = ['antecedent support', 'consequent support', 'zhangs_metric'], inplace = True)\n",
    "dd.head(5)\n",
    "\n",
    "#written by Braydon"
   ]
  },
  {
   "cell_type": "code",
   "execution_count": null,
   "id": "7fa91b196dcdaaa9",
   "metadata": {
    "collapsed": false
   },
   "outputs": [],
   "source": [
    "fig = px.scatter(\n",
    "    dd,\n",
    "    x=\"leverage\",\n",
    "    y=\"confidence\",\n",
    "    size=\"support\",\n",
    "    color=\"conviction\",\n",
    "    title=\"Categories Grouped Together\",\n",
    "\n",
    ")\n",
    "fig.show()\n",
    "\n",
    "#written by Braydon"
   ]
  },
  {
   "cell_type": "code",
   "execution_count": null,
   "id": "c5ebb8c215147f0f",
   "metadata": {
    "collapsed": false
   },
   "outputs": [],
   "source": []
  },
  {
   "cell_type": "code",
   "execution_count": null,
   "id": "e7643837e06d5549",
   "metadata": {
    "collapsed": false
   },
   "outputs": [],
   "source": []
  },
  {
   "cell_type": "code",
   "execution_count": null,
   "id": "7f73ab9f44353ec",
   "metadata": {
    "collapsed": false
   },
   "outputs": [],
   "source": []
  },
  {
   "cell_type": "code",
   "execution_count": null,
   "id": "27e402a30e84a2b7",
   "metadata": {
    "collapsed": false
   },
   "outputs": [],
   "source": []
  },
  {
   "cell_type": "code",
   "execution_count": null,
   "id": "7c67866480438951",
   "metadata": {
    "collapsed": false
   },
   "outputs": [],
   "source": []
  },
  {
   "cell_type": "code",
   "execution_count": null,
   "id": "a9d7a3283177b1d",
   "metadata": {
    "collapsed": false
   },
   "outputs": [],
   "source": []
  },
  {
   "cell_type": "code",
   "execution_count": null,
   "id": "56d8273ec7aa8ecc",
   "metadata": {
    "collapsed": false
   },
   "outputs": [],
   "source": []
  },
  {
   "cell_type": "code",
   "execution_count": null,
   "id": "82a2ba6527c15f4f",
   "metadata": {
    "collapsed": false
   },
   "outputs": [],
   "source": [
    "\n"
   ]
  },
  {
   "cell_type": "code",
   "execution_count": null,
   "id": "8e6091cded1a7f5d",
   "metadata": {
    "collapsed": false
   },
   "outputs": [],
   "source": []
  },
  {
   "cell_type": "code",
   "execution_count": null,
   "id": "63672df91794ba22",
   "metadata": {
    "collapsed": false
   },
   "outputs": [],
   "source": [
    "\n",
    "\n",
    "\n"
   ]
  },
  {
   "cell_type": "code",
   "execution_count": null,
   "id": "764b17ff58c86159",
   "metadata": {
    "collapsed": false
   },
   "outputs": [],
   "source": []
  },
  {
   "cell_type": "code",
   "execution_count": null,
   "id": "8ebbbc6b52e8b5b",
   "metadata": {
    "collapsed": false
   },
   "outputs": [],
   "source": []
  },
  {
   "cell_type": "code",
   "execution_count": null,
   "id": "a08faf997a61a2ac",
   "metadata": {
    "collapsed": false
   },
   "outputs": [],
   "source": []
  },
  {
   "cell_type": "code",
   "execution_count": null,
   "id": "7de09121c5502ed",
   "metadata": {
    "collapsed": false
   },
   "outputs": [],
   "source": []
  },
  {
   "cell_type": "code",
   "execution_count": null,
   "id": "307528856adff236",
   "metadata": {
    "collapsed": false
   },
   "outputs": [],
   "source": [
    "\n"
   ]
  },
  {
   "cell_type": "code",
   "execution_count": null,
   "id": "6415778d49e5d59c",
   "metadata": {
    "collapsed": false
   },
   "outputs": [],
   "source": []
  },
  {
   "cell_type": "code",
   "execution_count": null,
   "id": "289ff414fafa7e46",
   "metadata": {
    "collapsed": false
   },
   "outputs": [],
   "source": []
  },
  {
   "cell_type": "code",
   "execution_count": null,
   "id": "903a75a112a15b54",
   "metadata": {
    "collapsed": false
   },
   "outputs": [],
   "source": []
  },
  {
   "cell_type": "code",
   "execution_count": null,
   "id": "fa6515b98ac64727",
   "metadata": {
    "collapsed": false
   },
   "outputs": [],
   "source": []
  }
 ],
 "metadata": {
  "kernelspec": {
   "display_name": "Python 3 (ipykernel)",
   "language": "python",
   "name": "python3"
  },
  "language_info": {
   "codemirror_mode": {
    "name": "ipython",
    "version": 3
   },
   "file_extension": ".py",
   "mimetype": "text/x-python",
   "name": "python",
   "nbconvert_exporter": "python",
   "pygments_lexer": "ipython3",
   "version": "3.12.0"
  }
 },
 "nbformat": 4,
 "nbformat_minor": 5
}
